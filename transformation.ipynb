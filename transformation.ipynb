{
 "cells": [
  {
   "cell_type": "code",
   "execution_count": 1,
   "metadata": {},
   "outputs": [],
   "source": [
    "import nltk\n",
    "from nltk.corpus import stopwords\n",
    "from nltk.stem import WordNetLemmatizer\n",
    "from sklearn.feature_extraction.text import TfidfVectorizer\n",
    "from sklearn.feature_selection import chi2\n",
    "from sklearn.preprocessing import LabelEncoder\n",
    "from sklearn.model_selection import train_test_split\n",
    "import numpy as np\n",
    "import pandas as pd"
   ]
  },
  {
   "cell_type": "code",
   "execution_count": 2,
   "metadata": {},
   "outputs": [
    {
     "name": "stderr",
     "output_type": "stream",
     "text": [
      "[nltk_data] Downloading package punkt to /Users/adara/nltk_data...\n",
      "[nltk_data]   Package punkt is already up-to-date!\n",
      "[nltk_data] Downloading package wordnet to /Users/adara/nltk_data...\n",
      "[nltk_data]   Package wordnet is already up-to-date!\n",
      "[nltk_data] Downloading package stopwords to /Users/adara/nltk_data...\n",
      "[nltk_data]   Package stopwords is already up-to-date!\n"
     ]
    },
    {
     "data": {
      "text/plain": [
       "True"
      ]
     },
     "execution_count": 2,
     "metadata": {},
     "output_type": "execute_result"
    }
   ],
   "source": [
    "nltk.download('punkt')\n",
    "nltk.download('wordnet')\n",
    "nltk.download('stopwords')"
   ]
  },
  {
   "cell_type": "code",
   "execution_count": 3,
   "metadata": {},
   "outputs": [],
   "source": [
    "req_text = pd.read_csv('./datasets/domain_masked.csv')"
   ]
  },
  {
   "cell_type": "code",
   "execution_count": 4,
   "metadata": {},
   "outputs": [],
   "source": [
    "req_text['text'] = req_text['text'].str.replace(r'\\\\r',' ', regex=True)\n",
    "req_text['text'] = req_text['text'].str.replace(r'\\\\n',' ', regex=True)\n",
    "req_text['text'] = req_text['text'].str.replace(r'\\\\t',' ', regex=True)\n",
    "req_text['text'] = req_text['text'].str.replace(r'    ',' ', regex=True)\n",
    "req_text['text'] = req_text['text'].str.replace(r'\"\"','', regex=True)"
   ]
  },
  {
   "cell_type": "code",
   "execution_count": 5,
   "metadata": {},
   "outputs": [],
   "source": [
    "req_text['text'] = req_text['text'].str.lower()"
   ]
  },
  {
   "cell_type": "code",
   "execution_count": 6,
   "metadata": {},
   "outputs": [],
   "source": [
    "punctuation_signs = list(\"?:!.,;`'\")\n",
    "\n",
    "for punct_sign in punctuation_signs:\n",
    "    req_text['text'] = req_text['text'].str.replace(punct_sign, '')"
   ]
  },
  {
   "cell_type": "code",
   "execution_count": 7,
   "metadata": {},
   "outputs": [],
   "source": [
    "req_text['text'] = req_text['text'].str.replace(\"'s'\",\"\", regex=True)"
   ]
  },
  {
   "cell_type": "code",
   "execution_count": 8,
   "metadata": {},
   "outputs": [],
   "source": [
    "wordnet_lemmatizer = WordNetLemmatizer()\n",
    "nrows = len(req_text)\n",
    "lemmatized_text_list = []\n",
    "\n",
    "for row in range(0, nrows):\n",
    "    \n",
    "    # Create an empty list containing lemmatized words\n",
    "    lemmatized_list = []\n",
    "    \n",
    "    # Save the text and its words into an object\n",
    "    text = req_text.loc[row]['text']\n",
    "    text_words = text.split(\" \")\n",
    "\n",
    "    # Iterate through every word to lemmatize\n",
    "    for word in text_words:\n",
    "        lemmatized_list.append(wordnet_lemmatizer.lemmatize(word, pos=\"v\"))\n",
    "        \n",
    "    # Join the list\n",
    "    lemmatized_text = \" \".join(lemmatized_list)\n",
    "    \n",
    "    # Append to the list containing the texts\n",
    "    lemmatized_text_list.append(lemmatized_text)"
   ]
  },
  {
   "cell_type": "code",
   "execution_count": 9,
   "metadata": {},
   "outputs": [],
   "source": [
    "req_text['text'] = lemmatized_text_list"
   ]
  },
  {
   "cell_type": "code",
   "execution_count": 10,
   "metadata": {},
   "outputs": [],
   "source": [
    "stop_words = list(stopwords.words('english'))"
   ]
  },
  {
   "cell_type": "code",
   "execution_count": 11,
   "metadata": {},
   "outputs": [],
   "source": [
    "for stop_word in stop_words:\n",
    "\n",
    "    regex_stopword = r\"\\b\" + stop_word + r\"\\b\"\n",
    "    req_text['text'] = req_text['text'].str.replace(regex_stopword, '')"
   ]
  },
  {
   "cell_type": "code",
   "execution_count": 12,
   "metadata": {},
   "outputs": [
    {
     "data": {
      "text/plain": [
       "array(['AVAILABILITY', 'FAULT TOLERANCE', 'MAINTAINABILITY',\n",
       "       'PERFORMANCE', 'SCALABILITY', 'SECURITY', 'USABILITY'],\n",
       "      dtype=object)"
      ]
     },
     "execution_count": 12,
     "metadata": {},
     "output_type": "execute_result"
    }
   ],
   "source": [
    "le = LabelEncoder()\n",
    "le.fit(req_text['label'])\n",
    "le.classes_"
   ]
  },
  {
   "cell_type": "code",
   "execution_count": 13,
   "metadata": {},
   "outputs": [],
   "source": [
    "X = req_text['text']\n",
    "y = le.transform(req_text['label'])"
   ]
  },
  {
   "cell_type": "code",
   "execution_count": 14,
   "metadata": {},
   "outputs": [],
   "source": [
    "ngram_range = (1,2)\n",
    "min_df = 10\n",
    "max_df = 1.\n",
    "max_features = 300"
   ]
  },
  {
   "cell_type": "code",
   "execution_count": 15,
   "metadata": {},
   "outputs": [
    {
     "name": "stdout",
     "output_type": "stream",
     "text": [
      "(630, 148)\n"
     ]
    }
   ],
   "source": [
    "tfidf = TfidfVectorizer(encoding='utf-8',\n",
    "                        ngram_range=ngram_range,\n",
    "                        stop_words=None,\n",
    "                        lowercase=False,\n",
    "                        max_df=max_df,\n",
    "                        min_df=min_df,\n",
    "                        max_features=max_features,\n",
    "                        norm='l2',\n",
    "                        sublinear_tf=True)\n",
    "                        \n",
    "features_train = tfidf.fit_transform(X).toarray()\n",
    "labels_train = y\n",
    "print(features_train.shape)"
   ]
  },
  {
   "cell_type": "code",
   "execution_count": 17,
   "metadata": {},
   "outputs": [],
   "source": [
    "from tabulate import tabulate\n",
    "from IPython.display import Markdown, display\n",
    "\n",
    "features = []\n",
    "\n",
    "for label in range(len(le.classes_)):\n",
    "    features_chi2 = chi2(features_train, labels_train == label)\n",
    "    indices = np.argsort(features_chi2[0])\n",
    "    feature_names = np.array(tfidf.get_feature_names())[indices]\n",
    "    unigrams = [v for v in feature_names if len(v.split(' ')) == 1]\n",
    "    bigrams = [v for v in feature_names if len(v.split(' ')) == 2]\n",
    "    features.append([\"**{}**\".format(le.inverse_transform([label])[0]), \\\n",
    "                     \"`{}`\".format('`, `'.join(unigrams[-5:])), \\\n",
    "                     \"`{}`\".format('`, `'.join(bigrams[-2:]))])"
   ]
  },
  {
   "cell_type": "code",
   "execution_count": 18,
   "metadata": {},
   "outputs": [
    {
     "data": {
      "text/markdown": [
       "|    | Quality Attribute   | Unigrams                                                   | Bigrams                          |\n",
       "|----|---------------------|------------------------------------------------------------|----------------------------------|\n",
       "|  0 | **AVAILABILITY**    | `failure`, `achieve`, `hours`, `availability`, `available` | `system must`, `shall available` |\n",
       "|  1 | **FAULT TOLERANCE** | `eg`, `control`, `result`, `failure`, `operate`            | `within system`, `system shall`  |\n",
       "|  2 | **MAINTAINABILITY** | `maintain`, `design`, `new`, `update`, `maintenance`       | `use system`, `user able`        |\n",
       "|  3 | **PERFORMANCE**     | `status`, `result`, `less`, `response`, `fast`             | `less fast`, `response time`     |\n",
       "|  4 | **SCALABILITY**     | `manner`, `capable`, `support`, `handle`, `number`         | `shall support`, `shall capable` |\n",
       "|  5 | **SECURITY**        | `authorize`, `password`, `security`, `encrypt`, `access`   | `user system`, `authorize user`  |\n",
       "|  6 | **USABILITY**       | `use`, `content`, `navigation`, `easy`, `page`             | `shall easy`, `use system`       |"
      ],
      "text/plain": [
       "<IPython.core.display.Markdown object>"
      ]
     },
     "metadata": {},
     "output_type": "display_data"
    }
   ],
   "source": [
    "data = pd.DataFrame(features)\n",
    "display(Markdown(tabulate(data, headers=['Quality Attribute', 'Unigrams', 'Bigrams'], tablefmt=\"github\", numalign=\"right\")))"
   ]
  },
  {
   "cell_type": "code",
   "execution_count": 18,
   "metadata": {},
   "outputs": [],
   "source": [
    "import pickle"
   ]
  },
  {
   "cell_type": "code",
   "execution_count": 19,
   "metadata": {},
   "outputs": [],
   "source": [
    "X_train, X_test, y_train, y_test = train_test_split(features_train, labels_train, test_size=0.15, random_state=7)"
   ]
  },
  {
   "cell_type": "code",
   "execution_count": 20,
   "metadata": {},
   "outputs": [],
   "source": [
    "with open('X_train.pickle', 'wb') as file:\n",
    "    pickle.dump(X_train, file)\n",
    "\n",
    "with open('y_train.pickle', 'wb') as file:\n",
    "    pickle.dump(y_train, file)\n",
    "\n",
    "with open('X_test.pickle', 'wb') as file:\n",
    "    pickle.dump(X_test, file)\n",
    "\n",
    "with open('y_test.pickle', 'wb') as file:\n",
    "    pickle.dump(y_test, file)\n",
    "    \n",
    "with open('features_train.pickle', 'wb') as file:\n",
    "    pickle.dump(features_train, file)\n",
    "\n",
    "with open('labels_train.pickle', 'wb') as file:\n",
    "    pickle.dump(labels_train, file)\n",
    "\n",
    "with open('label_encoder.pickle', 'wb') as file:\n",
    "    pickle.dump(le, file)"
   ]
  },
  {
   "cell_type": "code",
   "execution_count": 21,
   "metadata": {},
   "outputs": [
    {
     "data": {
      "text/plain": [
       "['system shall',\n",
       " 'must able',\n",
       " 'user access',\n",
       " 'system must',\n",
       " 'shall available',\n",
       " 'shall able',\n",
       " 'authorize user',\n",
       " 'user able',\n",
       " 'user user',\n",
       " 'user shall',\n",
       " 'shall easy',\n",
       " 'use system']"
      ]
     },
     "execution_count": 21,
     "metadata": {},
     "output_type": "execute_result"
    }
   ],
   "source": [
    "bigrams"
   ]
  },
  {
   "cell_type": "code",
   "execution_count": null,
   "metadata": {},
   "outputs": [],
   "source": []
  }
 ],
 "metadata": {
  "kernelspec": {
   "display_name": "Python 3.7.6 64-bit",
   "language": "python",
   "name": "python37664bit287cf447ee5646b690a52b60c6f653db"
  },
  "language_info": {
   "codemirror_mode": {
    "name": "ipython",
    "version": 3
   },
   "file_extension": ".py",
   "mimetype": "text/x-python",
   "name": "python",
   "nbconvert_exporter": "python",
   "pygments_lexer": "ipython3",
   "version": "3.7.6"
  }
 },
 "nbformat": 4,
 "nbformat_minor": 4
}
